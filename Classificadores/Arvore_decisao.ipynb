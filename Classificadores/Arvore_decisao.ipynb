{
 "cells": [
  {
   "cell_type": "code",
   "execution_count": 13,
   "id": "01095e2a-3938-45d4-981b-0c02b1b1dad5",
   "metadata": {},
   "outputs": [],
   "source": [
    "import pandas as pd\n",
    "from sklearn.model_selection import train_test_split\n",
    "from sklearn.preprocessing import LabelEncoder\n",
    "from sklearn.metrics import confusion_matrix, accuracy_score\n",
    "from sklearn.tree import DecisionTreeClassifier\n",
    "import graphviz\n",
    "from sklearn.tree import export_graphviz"
   ]
  },
  {
   "cell_type": "code",
   "execution_count": 19,
   "id": "0ac5aa94-eb5f-4618-8ac6-5104481c8cb7",
   "metadata": {},
   "outputs": [
    {
     "data": {
      "text/plain": [
       "(1000, 21)"
      ]
     },
     "execution_count": 19,
     "metadata": {},
     "output_type": "execute_result"
    }
   ],
   "source": [
    "#Importando a base\n",
    "credito = pd.read_csv('Credit.csv')\n",
    "credito.shape"
   ]
  },
  {
   "cell_type": "code",
   "execution_count": 21,
   "id": "0246dbc9-40e6-48c6-b55d-bf34cdeb7813",
   "metadata": {},
   "outputs": [],
   "source": [
    "#Separando os atributos da classe\n",
    "previsores = credito.iloc[:,0:20].values\n",
    "classe = credito.iloc[:,20].values"
   ]
  },
  {
   "cell_type": "code",
   "execution_count": 25,
   "id": "a88adca8-ce89-41d5-ac6d-b142414975c8",
   "metadata": {},
   "outputs": [],
   "source": [
    "#Convertendo os atributos categoricos para numericos\n",
    "labelencoder = LabelEncoder()\n",
    "previsores[:,0] = labelencoder.fit_transform(previsores[:,0])\n",
    "previsores[:,2] = labelencoder.fit_transform(previsores[:,2])\n",
    "previsores[:,3] = labelencoder.fit_transform(previsores[:,3])\n",
    "previsores[:,5] = labelencoder.fit_transform(previsores[:,5])\n",
    "previsores[:,6] = labelencoder.fit_transform(previsores[:,6])\n",
    "previsores[:,8] = labelencoder.fit_transform(previsores[:,8])\n",
    "previsores[:,9] = labelencoder.fit_transform(previsores[:,9])\n",
    "previsores[:,11] = labelencoder.fit_transform(previsores[:,11])\n",
    "previsores[:,13] = labelencoder.fit_transform(previsores[:,13])\n",
    "previsores[:,14] = labelencoder.fit_transform(previsores[:,14])\n",
    "previsores[:,16] = labelencoder.fit_transform(previsores[:,16])\n",
    "previsores[:,18] = labelencoder.fit_transform(previsores[:,18])\n",
    "previsores[:,19] = labelencoder.fit_transform(previsores[:,19])"
   ]
  },
  {
   "cell_type": "code",
   "execution_count": 35,
   "id": "005ec780-1693-4c8d-903d-aa7ceeca61b2",
   "metadata": {},
   "outputs": [
    {
     "data": {
      "text/plain": [
       "array([[1, 24, 1, ..., 2, 1, 1],\n",
       "       [0, 36, 3, ..., 1, 1, 1],\n",
       "       [2, 15, 1, ..., 2, 1, 1],\n",
       "       ...,\n",
       "       [0, 9, 3, ..., 1, 0, 1],\n",
       "       [1, 18, 1, ..., 1, 0, 1],\n",
       "       [1, 36, 2, ..., 2, 1, 1]], dtype=object)"
      ]
     },
     "execution_count": 35,
     "metadata": {},
     "output_type": "execute_result"
    }
   ],
   "source": [
    "#usando a funcao train_test_spli para separar as variaveis para treino e teste\n",
    "x_treino, x_teste, y_treino, y_teste = train_test_split(previsores, classe, test_size=0.3, random_state = 0)\n",
    "x_treino"
   ]
  },
  {
   "cell_type": "code",
   "execution_count": 37,
   "id": "ae229542-b9e0-44d6-b051-7049dd8b4079",
   "metadata": {},
   "outputs": [
    {
     "data": {
      "text/html": [
       "<style>#sk-container-id-1 {color: black;background-color: white;}#sk-container-id-1 pre{padding: 0;}#sk-container-id-1 div.sk-toggleable {background-color: white;}#sk-container-id-1 label.sk-toggleable__label {cursor: pointer;display: block;width: 100%;margin-bottom: 0;padding: 0.3em;box-sizing: border-box;text-align: center;}#sk-container-id-1 label.sk-toggleable__label-arrow:before {content: \"▸\";float: left;margin-right: 0.25em;color: #696969;}#sk-container-id-1 label.sk-toggleable__label-arrow:hover:before {color: black;}#sk-container-id-1 div.sk-estimator:hover label.sk-toggleable__label-arrow:before {color: black;}#sk-container-id-1 div.sk-toggleable__content {max-height: 0;max-width: 0;overflow: hidden;text-align: left;background-color: #f0f8ff;}#sk-container-id-1 div.sk-toggleable__content pre {margin: 0.2em;color: black;border-radius: 0.25em;background-color: #f0f8ff;}#sk-container-id-1 input.sk-toggleable__control:checked~div.sk-toggleable__content {max-height: 200px;max-width: 100%;overflow: auto;}#sk-container-id-1 input.sk-toggleable__control:checked~label.sk-toggleable__label-arrow:before {content: \"▾\";}#sk-container-id-1 div.sk-estimator input.sk-toggleable__control:checked~label.sk-toggleable__label {background-color: #d4ebff;}#sk-container-id-1 div.sk-label input.sk-toggleable__control:checked~label.sk-toggleable__label {background-color: #d4ebff;}#sk-container-id-1 input.sk-hidden--visually {border: 0;clip: rect(1px 1px 1px 1px);clip: rect(1px, 1px, 1px, 1px);height: 1px;margin: -1px;overflow: hidden;padding: 0;position: absolute;width: 1px;}#sk-container-id-1 div.sk-estimator {font-family: monospace;background-color: #f0f8ff;border: 1px dotted black;border-radius: 0.25em;box-sizing: border-box;margin-bottom: 0.5em;}#sk-container-id-1 div.sk-estimator:hover {background-color: #d4ebff;}#sk-container-id-1 div.sk-parallel-item::after {content: \"\";width: 100%;border-bottom: 1px solid gray;flex-grow: 1;}#sk-container-id-1 div.sk-label:hover label.sk-toggleable__label {background-color: #d4ebff;}#sk-container-id-1 div.sk-serial::before {content: \"\";position: absolute;border-left: 1px solid gray;box-sizing: border-box;top: 0;bottom: 0;left: 50%;z-index: 0;}#sk-container-id-1 div.sk-serial {display: flex;flex-direction: column;align-items: center;background-color: white;padding-right: 0.2em;padding-left: 0.2em;position: relative;}#sk-container-id-1 div.sk-item {position: relative;z-index: 1;}#sk-container-id-1 div.sk-parallel {display: flex;align-items: stretch;justify-content: center;background-color: white;position: relative;}#sk-container-id-1 div.sk-item::before, #sk-container-id-1 div.sk-parallel-item::before {content: \"\";position: absolute;border-left: 1px solid gray;box-sizing: border-box;top: 0;bottom: 0;left: 50%;z-index: -1;}#sk-container-id-1 div.sk-parallel-item {display: flex;flex-direction: column;z-index: 1;position: relative;background-color: white;}#sk-container-id-1 div.sk-parallel-item:first-child::after {align-self: flex-end;width: 50%;}#sk-container-id-1 div.sk-parallel-item:last-child::after {align-self: flex-start;width: 50%;}#sk-container-id-1 div.sk-parallel-item:only-child::after {width: 0;}#sk-container-id-1 div.sk-dashed-wrapped {border: 1px dashed gray;margin: 0 0.4em 0.5em 0.4em;box-sizing: border-box;padding-bottom: 0.4em;background-color: white;}#sk-container-id-1 div.sk-label label {font-family: monospace;font-weight: bold;display: inline-block;line-height: 1.2em;}#sk-container-id-1 div.sk-label-container {text-align: center;}#sk-container-id-1 div.sk-container {/* jupyter's `normalize.less` sets `[hidden] { display: none; }` but bootstrap.min.css set `[hidden] { display: none !important; }` so we also need the `!important` here to be able to override the default hidden behavior on the sphinx rendered scikit-learn.org. See: https://github.com/scikit-learn/scikit-learn/issues/21755 */display: inline-block !important;position: relative;}#sk-container-id-1 div.sk-text-repr-fallback {display: none;}</style><div id=\"sk-container-id-1\" class=\"sk-top-container\"><div class=\"sk-text-repr-fallback\"><pre>DecisionTreeClassifier()</pre><b>In a Jupyter environment, please rerun this cell to show the HTML representation or trust the notebook. <br />On GitHub, the HTML representation is unable to render, please try loading this page with nbviewer.org.</b></div><div class=\"sk-container\" hidden><div class=\"sk-item\"><div class=\"sk-estimator sk-toggleable\"><input class=\"sk-toggleable__control sk-hidden--visually\" id=\"sk-estimator-id-1\" type=\"checkbox\" checked><label for=\"sk-estimator-id-1\" class=\"sk-toggleable__label sk-toggleable__label-arrow\">DecisionTreeClassifier</label><div class=\"sk-toggleable__content\"><pre>DecisionTreeClassifier()</pre></div></div></div></div></div>"
      ],
      "text/plain": [
       "DecisionTreeClassifier()"
      ]
     },
     "execution_count": 37,
     "metadata": {},
     "output_type": "execute_result"
    }
   ],
   "source": [
    "#criando o modelo com o algoritimo e treinando o modelo com os dados que seperamos\n",
    "arvore = DecisionTreeClassifier()\n",
    "arvore.fit(x_treino, y_treino)"
   ]
  },
  {
   "cell_type": "code",
   "execution_count": 39,
   "id": "0b3f3bfe-cd47-4d53-982b-cb75a00752c0",
   "metadata": {},
   "outputs": [
    {
     "data": {
      "text/plain": [
       "array(['bad', 'bad', 'good', 'good', 'good', 'bad', 'good', 'good',\n",
       "       'good', 'bad', 'bad', 'bad', 'bad', 'bad', 'bad', 'bad', 'good',\n",
       "       'good', 'bad', 'bad', 'good', 'bad', 'good', 'good', 'good', 'bad',\n",
       "       'good', 'bad', 'good', 'bad', 'good', 'bad', 'bad', 'bad', 'good',\n",
       "       'bad', 'good', 'good', 'good', 'good', 'good', 'bad', 'good',\n",
       "       'good', 'good', 'good', 'good', 'bad', 'good', 'good', 'good',\n",
       "       'bad', 'bad', 'good', 'good', 'bad', 'good', 'good', 'good', 'bad',\n",
       "       'bad', 'good', 'good', 'good', 'good', 'bad', 'good', 'good',\n",
       "       'bad', 'good', 'good', 'good', 'bad', 'bad', 'good', 'good', 'bad',\n",
       "       'bad', 'good', 'good', 'good', 'good', 'good', 'good', 'good',\n",
       "       'good', 'bad', 'bad', 'good', 'good', 'good', 'bad', 'bad', 'good',\n",
       "       'good', 'good', 'good', 'bad', 'good', 'bad', 'good', 'good',\n",
       "       'good', 'good', 'good', 'good', 'bad', 'bad', 'good', 'good',\n",
       "       'good', 'good', 'good', 'good', 'good', 'good', 'bad', 'good',\n",
       "       'bad', 'good', 'bad', 'good', 'good', 'bad', 'good', 'good',\n",
       "       'good', 'good', 'bad', 'good', 'good', 'good', 'good', 'good',\n",
       "       'good', 'good', 'good', 'good', 'good', 'bad', 'bad', 'good',\n",
       "       'good', 'good', 'good', 'good', 'good', 'bad', 'good', 'good',\n",
       "       'good', 'good', 'good', 'good', 'bad', 'good', 'good', 'good',\n",
       "       'good', 'good', 'bad', 'good', 'good', 'good', 'bad', 'bad', 'bad',\n",
       "       'good', 'bad', 'good', 'bad', 'good', 'bad', 'bad', 'good', 'bad',\n",
       "       'bad', 'bad', 'good', 'good', 'good', 'good', 'bad', 'bad', 'bad',\n",
       "       'good', 'good', 'good', 'bad', 'good', 'good', 'bad', 'good',\n",
       "       'good', 'good', 'bad', 'good', 'good', 'good', 'good', 'good',\n",
       "       'bad', 'bad', 'good', 'good', 'good', 'bad', 'good', 'good',\n",
       "       'good', 'good', 'bad', 'good', 'good', 'good', 'bad', 'good',\n",
       "       'good', 'bad', 'bad', 'bad', 'bad', 'good', 'good', 'good', 'good',\n",
       "       'good', 'bad', 'bad', 'good', 'good', 'good', 'good', 'good',\n",
       "       'bad', 'bad', 'good', 'good', 'good', 'good', 'good', 'good',\n",
       "       'good', 'good', 'bad', 'bad', 'good', 'good', 'good', 'good',\n",
       "       'bad', 'bad', 'good', 'bad', 'good', 'good', 'good', 'good',\n",
       "       'good', 'bad', 'good', 'bad', 'good', 'good', 'bad', 'bad', 'bad',\n",
       "       'good', 'good', 'bad', 'bad', 'good', 'good', 'good', 'good',\n",
       "       'good', 'good', 'good', 'bad', 'bad', 'good', 'good', 'good',\n",
       "       'good', 'good', 'good', 'good', 'bad', 'bad', 'bad', 'bad', 'good',\n",
       "       'good', 'good', 'good', 'good', 'bad', 'good', 'bad', 'bad'],\n",
       "      dtype=object)"
      ]
     },
     "execution_count": 39,
     "metadata": {},
     "output_type": "execute_result"
    }
   ],
   "source": [
    "#Aqui testamos o modelo com os atributos separados anteriormente\n",
    "previsao = arvore.predict(x_teste)\n",
    "previsao"
   ]
  },
  {
   "cell_type": "code",
   "execution_count": 43,
   "id": "fa00639e-75f5-47a1-a67c-4904bc1f8589",
   "metadata": {},
   "outputs": [
    {
     "data": {
      "text/plain": [
       "0.6766666666666666"
      ]
     },
     "execution_count": 43,
     "metadata": {},
     "output_type": "execute_result"
    }
   ],
   "source": [
    "#Aqui é a taxa de acerto do modelo\n",
    "taxa_acerto = accuracy_score(y_teste, previsao)\n",
    "taxa_acerto"
   ]
  },
  {
   "cell_type": "code",
   "execution_count": 45,
   "id": "54e2cfcf-bd29-4c51-8e2a-b492a458a0ca",
   "metadata": {},
   "outputs": [
    {
     "data": {
      "text/plain": [
       "0.32333333333333336"
      ]
     },
     "execution_count": 45,
     "metadata": {},
     "output_type": "execute_result"
    }
   ],
   "source": [
    "#Taxa de erro do modelo\n",
    "taxa_erro = 1 - taxa_acerto\n",
    "taxa_erro"
   ]
  }
 ],
 "metadata": {
  "kernelspec": {
   "display_name": "Python 3 (ipykernel)",
   "language": "python",
   "name": "python3"
  },
  "language_info": {
   "codemirror_mode": {
    "name": "ipython",
    "version": 3
   },
   "file_extension": ".py",
   "mimetype": "text/x-python",
   "name": "python",
   "nbconvert_exporter": "python",
   "pygments_lexer": "ipython3",
   "version": "3.11.7"
  }
 },
 "nbformat": 4,
 "nbformat_minor": 5
}
