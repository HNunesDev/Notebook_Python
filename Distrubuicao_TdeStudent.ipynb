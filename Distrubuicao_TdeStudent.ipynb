{
 "cells": [
  {
   "cell_type": "code",
   "execution_count": 1,
   "id": "0e253419-2aa6-4c4d-bbc4-d2e53deaa062",
   "metadata": {},
   "outputs": [],
   "source": [
    "from scipy.stats import t"
   ]
  },
  {
   "cell_type": "code",
   "execution_count": 5,
   "id": "fb54bc7b-f103-4801-a58f-d394d01a10ff",
   "metadata": {},
   "outputs": [
    {
     "data": {
      "text/plain": [
       "0.9139983540240443"
      ]
     },
     "execution_count": 5,
     "metadata": {},
     "output_type": "execute_result"
    }
   ],
   "source": [
    "# media salarial do cientista é 75 a hora, amostra com 9 funcinarios, e desvio padrao 10 \n",
    "t.cdf(1.5,8)"
   ]
  },
  {
   "cell_type": "code",
   "execution_count": 7,
   "id": "68b80979-d901-4a6f-b6a8-f5a6c5e3e527",
   "metadata": {},
   "outputs": [
    {
     "data": {
      "text/plain": [
       "0.08600164597595565"
      ]
     },
     "execution_count": 7,
     "metadata": {},
     "output_type": "execute_result"
    }
   ],
   "source": [
    "#probabilidade do salario ser menor que 80\n",
    "t.sf(1.5,8)"
   ]
  },
  {
   "cell_type": "code",
   "execution_count": 9,
   "id": "bdad81cb-2d3b-48cb-9451-67d13598e98d",
   "metadata": {},
   "outputs": [
    {
     "data": {
      "text/plain": [
       "0.9999999999999999"
      ]
     },
     "execution_count": 9,
     "metadata": {},
     "output_type": "execute_result"
    }
   ],
   "source": [
    "t.cdf(1.5,8) + t.sf(1.5,8)"
   ]
  }
 ],
 "metadata": {
  "kernelspec": {
   "display_name": "Python 3 (ipykernel)",
   "language": "python",
   "name": "python3"
  },
  "language_info": {
   "codemirror_mode": {
    "name": "ipython",
    "version": 3
   },
   "file_extension": ".py",
   "mimetype": "text/x-python",
   "name": "python",
   "nbconvert_exporter": "python",
   "pygments_lexer": "ipython3",
   "version": "3.11.7"
  }
 },
 "nbformat": 4,
 "nbformat_minor": 5
}
